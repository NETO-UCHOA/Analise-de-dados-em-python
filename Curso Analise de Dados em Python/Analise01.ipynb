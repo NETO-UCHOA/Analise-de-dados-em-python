#!/usr/bin/env python
# coding: utf-8

# In[6]:


import pandas as pd
import os
import numpy as np


# In[5]:


situacao = os.path.join('D:\downloads\dados recife_links_2.txt')


# In[7]:


situacoes = np.loadtxt(situacao,dtype='str')


# In[24]:


colunas = ['ano','nescolnome','ebairrnome','nmodennome','situ']  #colunas necessárias para a analise
anos = pd.DataFrame(columns=colunas) #criando dataframe vazio
c = ['ano', 'nescolnome', 'ebairrnome', 'eescolruae', 'aescolnume',
       'cescolrpae', 'modens', 'compens', 'anoensino', 'esermodesc',
       'nmodennome', 'turma', 'nturesnome', 'mat', 'alunosexo', 'situ',
       'esitaldesc'] #Todas as colunas do dataframe


# In[25]:


for link in situacoes:
    ano = link[::-1][4:8][::-1] 
    anocorrente = 'ano' + ano
    vars()[anocorrente] = pd.read_csv(link,sep=';', header=0) #lendo cada link
    print('Ano: ',ano,vars()[anocorrente].shape)
    vars()[anocorrente].columns = c #padronizando o nome das colunas
    vars()[anocorrente] = vars()[anocorrente][colunas] #deixar apenas as colunas necessárias
    vars()[anocorrente] = vars()[anocorrente].query('nmodennome == "ENSINO FUNDAMENTAL"') # filtrar as linhas necessárias
    vars()[anocorrente].loc[vars()[anocorrente].query('situ in ["DERN","RF","RFTA","RFTS","RT","RTTA"]').index,'situ']='RP' #compatibilizar as situações
    vars()[anocorrente].loc[vars()[anocorrente].query('situ in ["DETA","MO","RNTA","RNTE","RNTR","RNTS","TA","TS","RN"]').index,'situ']='TR'
    print('Ano: ',ano,vars()[anocorrente].shape)
    anos = pd.concat([anos,vars()[anocorrente]])


# In[26]:


anos.info()


# In[12]:





# In[ ]:




